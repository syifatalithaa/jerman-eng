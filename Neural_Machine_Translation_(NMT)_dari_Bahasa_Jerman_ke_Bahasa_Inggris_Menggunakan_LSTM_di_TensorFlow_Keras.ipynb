{
  "cells": [
    {
      "cell_type": "code",
      "execution_count": 1,
      "metadata": {
        "id": "dWBIvn57Tp4a"
      },
      "outputs": [],
      "source": [
        "import string\n",
        "import re\n",
        "from numpy import array, argmax, random, take\n",
        "import pandas as pd\n",
        "from tensorflow.keras.models import Sequential\n",
        "from tensorflow.keras.layers import Dense, LSTM, Embedding, RepeatVector, TimeDistributed\n",
        "from tensorflow.keras.preprocessing.text import Tokenizer\n",
        "from tensorflow.keras.callbacks import ModelCheckpoint\n",
        "from tensorflow.keras.preprocessing.sequence import pad_sequences\n",
        "from tensorflow.keras.models import load_model\n",
        "from tensorflow.keras import optimizers\n",
        "import matplotlib.pyplot as plt\n",
        "%matplotlib inline\n",
        "pd.set_option('display.max_colwidth', 200)"
      ]
    },
    {
      "cell_type": "code",
      "execution_count": 2,
      "metadata": {
        "id": "62J2QTzOT51n"
      },
      "outputs": [],
      "source": [
        "# function to read raw text file\n",
        "def read_text(filename):\n",
        "        # open the file\n",
        "        file = open(filename, mode='rt', encoding='utf-8')\n",
        "\n",
        "        # read all text\n",
        "        text = file.read()\n",
        "        file.close()\n",
        "        return text"
      ]
    },
    {
      "cell_type": "code",
      "execution_count": 3,
      "metadata": {
        "id": "agCZV8XRURpI"
      },
      "outputs": [],
      "source": [
        "# split a text into sentences\n",
        "def to_lines(text):\n",
        "    sents = text.strip().split('\\n')\n",
        "    return [i.split('\\t') for i in sents]"
      ]
    },
    {
      "cell_type": "code",
      "execution_count": 4,
      "metadata": {
        "colab": {
          "base_uri": "https://localhost:8080/"
        },
        "id": "-_c5GiqPdMeS",
        "outputId": "690812c2-2a6f-4a04-acc3-2fde422a8972"
      },
      "outputs": [],
      "source": [
        "# from google.colab import drive\n",
        "# drive.mount('/content/drive')\n",
        "\n",
        "# # Tentukan path file\n",
        "# file_path = '/content/drive/MyDrive/deu.txt'\n",
        "\n",
        "file_path = 'C:/Users/Syifa Ayu Talitha M/Documents/Intern ASDP/DEPLOYMENT DATA ANALISIS/deu.txt'\n",
        "\n",
        "# Fungsi untuk membaca file dan memprosesnya\n",
        "data = read_text(file_path)\n",
        "deu_eng = to_lines(data)\n",
        "deu_eng = array(deu_eng)\n"
      ]
    },
    {
      "cell_type": "code",
      "execution_count": 5,
      "metadata": {
        "id": "Lpjhau6WnPBE"
      },
      "outputs": [],
      "source": [
        "deu_eng = deu_eng[:10000,:]"
      ]
    },
    {
      "cell_type": "code",
      "execution_count": 6,
      "metadata": {
        "colab": {
          "base_uri": "https://localhost:8080/"
        },
        "id": "IxsinKysnXP6",
        "outputId": "0f1fceda-0e8e-4420-a6a5-e7951e62b20c"
      },
      "outputs": [
        {
          "data": {
            "text/plain": [
              "array([['Go', 'Geh',\n",
              "        'CC-BY 2.0 (France) Attribution: tatoeba.org #2877272 (CM) & #8597805 (Roujin)'],\n",
              "       ['Hi', 'Hallo',\n",
              "        'CC-BY 2.0 (France) Attribution: tatoeba.org #538123 (CM) & #380701 (cburgmer)'],\n",
              "       ['Hi', 'Grüß Gott',\n",
              "        'CC-BY 2.0 (France) Attribution: tatoeba.org #538123 (CM) & #659813 (Esperantostern)'],\n",
              "       ...,\n",
              "       ['Tom said hello', 'Tom sagte Hallo',\n",
              "        'CC-BY 2.0 (France) Attribution: tatoeba.org #2549605 (CK) & #6615076 (Felixjp)'],\n",
              "       ['Tom sat calmly', 'Tom saß ruhig da',\n",
              "        'CC-BY 2.0 (France) Attribution: tatoeba.org #2237641 (CK) & #6615062 (Felixjp)'],\n",
              "       ['Tom sat nearby', 'Tom saß in der Nähe',\n",
              "        'CC-BY 2.0 (France) Attribution: tatoeba.org #2237645 (CK) & #6615063 (Felixjp)']],\n",
              "      dtype='<U537')"
            ]
          },
          "execution_count": 6,
          "metadata": {},
          "output_type": "execute_result"
        }
      ],
      "source": [
        "# Remove punctuation\n",
        "deu_eng[:,0] = [s.translate(str.maketrans('', '', string.punctuation)) for s in deu_eng[:,0]]\n",
        "deu_eng[:,1] = [s.translate(str.maketrans('', '', string.punctuation)) for s in deu_eng[:,1]]\n",
        "\n",
        "deu_eng"
      ]
    },
    {
      "cell_type": "code",
      "execution_count": 7,
      "metadata": {
        "id": "BEzDItHxo3AI"
      },
      "outputs": [],
      "source": [
        "# convert text to lowercase\n",
        "for i in range(len(deu_eng)):\n",
        "    deu_eng[i,0] = deu_eng[i,0].lower()\n",
        "    deu_eng[i,1] = deu_eng[i,1].lower()"
      ]
    },
    {
      "cell_type": "code",
      "execution_count": 8,
      "metadata": {
        "colab": {
          "base_uri": "https://localhost:8080/",
          "height": 452
        },
        "id": "sz_wzAhOo6LL",
        "outputId": "9ecb2ef4-07e7-481b-f94a-9ce842617ba4"
      },
      "outputs": [
        {
          "data": {
            "image/png": "[encoded data removed]",
            "text/plain": [
              "<Figure size 640x480 with 2 Axes>"
            ]
          },
          "metadata": {},
          "output_type": "display_data"
        }
      ],
      "source": [
        "# 1. Analisis Panjang Kalimat\n",
        "# empty lists\n",
        "eng_l = []\n",
        "deu_l = []\n",
        "\n",
        "# populate the lists with sentence lengths\n",
        "for i in deu_eng[:,0]:\n",
        "      eng_l.append(len(i.split()))\n",
        "\n",
        "for i in deu_eng[:,1]:\n",
        "      deu_l.append(len(i.split()))\n",
        "\n",
        "length_df = pd.DataFrame({'eng':eng_l, 'deu':deu_l})\n",
        "\n",
        "length_df.hist(bins = 30)\n",
        "plt.show()"
      ]
    },
    {
      "cell_type": "code",
      "execution_count": 9,
      "metadata": {
        "colab": {
          "base_uri": "https://localhost:8080/",
          "height": 460
        },
        "id": "a6sWU2kwpAYI",
        "outputId": "97ee9410-25e7-40f6-d7a7-f792c6ec9486"
      },
      "outputs": [
        {
          "data": {
            "image/png": "[encoded data removed]",
            "text/plain": [
              "<Figure size 1200x500 with 2 Axes>"
            ]
          },
          "metadata": {},
          "output_type": "display_data"
        }
      ],
      "source": [
        "# 2. Frekuensi Data Terbanyak\n",
        "from collections import Counter\n",
        "import seaborn as sns\n",
        "\n",
        "# Gabungkan semua kalimat menjadi satu string\n",
        "all_eng_words = ' '.join(deu_eng[:,0]).split()\n",
        "all_deu_words = ' '.join(deu_eng[:,1]).split()\n",
        "\n",
        "# Hitung frekuensi kata\n",
        "eng_word_freq = Counter(all_eng_words).most_common(20)\n",
        "deu_word_freq = Counter(all_deu_words).most_common(20)\n",
        "\n",
        "# Visualisasi\n",
        "eng_df = pd.DataFrame(eng_word_freq, columns=['word', 'count'])\n",
        "deu_df = pd.DataFrame(deu_word_freq, columns=['word', 'count'])\n",
        "\n",
        "plt.figure(figsize=(12, 5))\n",
        "plt.subplot(1, 2, 1)\n",
        "sns.barplot(data=eng_df, x='count', y='word')\n",
        "plt.title('Top 20 English Words')\n",
        "\n",
        "plt.subplot(1, 2, 2)\n",
        "sns.barplot(data=deu_df, x='count', y='word')\n",
        "plt.title('Top 20 German Words')\n",
        "\n",
        "plt.tight_layout()\n",
        "plt.show()\n"
      ]
    },
    {
      "cell_type": "code",
      "execution_count": 10,
      "metadata": {
        "colab": {
          "base_uri": "https://localhost:8080/"
        },
        "id": "y-Fy7lbbpPMq",
        "outputId": "26ecd0e1-1f98-4171-b124-84a7e5e1fef2"
      },
      "outputs": [
        {
          "name": "stdout",
          "output_type": "stream",
          "text": [
            "Jumlah kata unik dalam Bahasa Inggris: 2276\n",
            "Jumlah kata unik dalam Bahasa Jerman : 3646\n"
          ]
        }
      ],
      "source": [
        "# 3. Distribusi Jumlah Kata Unik\n",
        "print(\"Jumlah kata unik dalam Bahasa Inggris:\", len(set(all_eng_words)))\n",
        "print(\"Jumlah kata unik dalam Bahasa Jerman :\", len(set(all_deu_words)))\n"
      ]
    },
    {
      "cell_type": "code",
      "execution_count": 11,
      "metadata": {
        "colab": {
          "base_uri": "https://localhost:8080/"
        },
        "id": "qkwiOiETpmCe",
        "outputId": "4b78660f-50c3-4db3-b8ef-ebe0f64569f9"
      },
      "outputs": [
        {
          "name": "stdout",
          "output_type": "stream",
          "text": [
            "Panjang kalimat Inggris - min: 1 max: 5 mean: 2.8171\n",
            "Panjang kalimat Jerman  - min: 1 max: 9 mean: 3.3356\n"
          ]
        }
      ],
      "source": [
        "# 4. Panjang Kalimat Maksimum, Minimum, dan Rata-rata\n",
        "print(\"Panjang kalimat Inggris - min:\", min(eng_l), \"max:\", max(eng_l), \"mean:\", sum(eng_l)/len(eng_l))\n",
        "print(\"Panjang kalimat Jerman  - min:\", min(deu_l), \"max:\", max(deu_l), \"mean:\", sum(deu_l)/len(deu_l))\n"
      ]
    },
    {
      "cell_type": "code",
      "execution_count": 12,
      "metadata": {
        "colab": {
          "base_uri": "https://localhost:8080/",
          "height": 472
        },
        "id": "gr8bTHi-puT1",
        "outputId": "f24b4fbe-08c4-437f-ae34-308f120934c5"
      },
      "outputs": [
        {
          "data": {
            "image/png": "[encoded data removed]",
            "text/plain": [
              "<Figure size 640x480 with 1 Axes>"
            ]
          },
          "metadata": {},
          "output_type": "display_data"
        }
      ],
      "source": [
        "# 5.  Perbandingan Panjang Kalimat Bahasa Inggris vs Jerman\n",
        "plt.scatter(eng_l, deu_l, alpha=0.2)\n",
        "plt.xlabel(\"English sentence length\")\n",
        "plt.ylabel(\"German sentence length\")\n",
        "plt.title(\"Sentence length comparison\")\n",
        "plt.show()\n"
      ]
    },
    {
      "cell_type": "code",
      "execution_count": 13,
      "metadata": {
        "colab": {
          "base_uri": "https://localhost:8080/"
        },
        "id": "uYxnU8zup0Rk",
        "outputId": "d55d2c42-6af9-4fa8-a622-9580002a7f7b"
      },
      "outputs": [
        {
          "name": "stdout",
          "output_type": "stream",
          "text": [
            "Jumlah kalimat unik: 10000\n",
            "Jumlah total pasangan kalimat: 10000\n"
          ]
        }
      ],
      "source": [
        "# 6. Cek Kalimat Duplikat\n",
        "print(\"Jumlah kalimat unik:\", len(set(map(tuple, deu_eng))))\n",
        "print(\"Jumlah total pasangan kalimat:\", len(deu_eng))\n"
      ]
    },
    {
      "cell_type": "code",
      "execution_count": 14,
      "metadata": {
        "id": "-D-IdUpsp5qp"
      },
      "outputs": [],
      "source": [
        "# function to build a tokenizer\n",
        "def tokenization(lines):\n",
        "    tokenizer = Tokenizer()\n",
        "    tokenizer.fit_on_texts(lines)\n",
        "    return tokenizer"
      ]
    },
    {
      "cell_type": "code",
      "execution_count": 15,
      "metadata": {
        "colab": {
          "base_uri": "https://localhost:8080/"
        },
        "id": "YPQraVMSp8Ll",
        "outputId": "de457ccd-08f2-4653-bf36-0b309ca4204b"
      },
      "outputs": [
        {
          "name": "stdout",
          "output_type": "stream",
          "text": [
            "English Vocabulary Size: 2277\n"
          ]
        }
      ],
      "source": [
        "# prepare english tokenizer\n",
        "eng_tokenizer = tokenization(deu_eng[:, 0])\n",
        "eng_vocab_size = len(eng_tokenizer.word_index) + 1\n",
        "\n",
        "eng_length = 8\n",
        "print('English Vocabulary Size: %d' % eng_vocab_size)"
      ]
    },
    {
      "cell_type": "code",
      "execution_count": 16,
      "metadata": {
        "colab": {
          "base_uri": "https://localhost:8080/"
        },
        "id": "5GWiO_zop-zd",
        "outputId": "1d569f15-c02c-4ef2-c6e8-d70ce6dde3de"
      },
      "outputs": [
        {
          "name": "stdout",
          "output_type": "stream",
          "text": [
            "Deutch Vocabulary Size: 3647\n"
          ]
        }
      ],
      "source": [
        "# prepare Deutch tokenizer\n",
        "deu_tokenizer = tokenization(deu_eng[:, 1])\n",
        "deu_vocab_size = len(deu_tokenizer.word_index) + 1\n",
        "\n",
        "deu_length = 8\n",
        "print('Deutch Vocabulary Size: %d' % deu_vocab_size)"
      ]
    },
    {
      "cell_type": "code",
      "execution_count": 17,
      "metadata": {
        "id": "gIkpfhMwqBOi"
      },
      "outputs": [],
      "source": [
        "# encode and pad sequences\n",
        "def encode_sequences(tokenizer, length, lines):\n",
        "    seq = tokenizer.texts_to_sequences(lines)\n",
        "    # pad sequences with 0 values\n",
        "    seq = pad_sequences(seq, maxlen=length, padding='post')\n",
        "    return seq"
      ]
    },
    {
      "cell_type": "code",
      "execution_count": 18,
      "metadata": {
        "id": "s2E_F4lgqDaf"
      },
      "outputs": [],
      "source": [
        "from sklearn.model_selection import train_test_split\n",
        "\n",
        "# split data into train and test set\n",
        "train, test = train_test_split(deu_eng, test_size=0.2, random_state = 12)"
      ]
    },
    {
      "cell_type": "code",
      "execution_count": 19,
      "metadata": {
        "id": "Y6rSVwegqGtI"
      },
      "outputs": [],
      "source": [
        "# prepare training data\n",
        "trainX = encode_sequences(deu_tokenizer, deu_length, train[:, 1])\n",
        "trainY = encode_sequences(eng_tokenizer, eng_length, train[:, 0])\n",
        "\n",
        "# prepare validation data\n",
        "testX = encode_sequences(deu_tokenizer, deu_length, test[:, 1])\n",
        "testY = encode_sequences(eng_tokenizer, eng_length, test[:, 0])"
      ]
    },
    {
      "cell_type": "code",
      "execution_count": 20,
      "metadata": {
        "id": "viyQ0FEGqJn1"
      },
      "outputs": [],
      "source": [
        "def define_model(in_vocab, out_vocab, in_timesteps, out_timesteps, units):\n",
        "    model = Sequential()\n",
        "    model.add(Embedding(input_dim=in_vocab, output_dim=units, mask_zero=True))  # Removed input_length\n",
        "    model.add(LSTM(units))\n",
        "    model.add(RepeatVector(out_timesteps))\n",
        "    model.add(LSTM(units, return_sequences=True))\n",
        "    model.add(Dense(out_vocab, activation='softmax'))\n",
        "    return model\n"
      ]
    },
    {
      "cell_type": "code",
      "execution_count": 21,
      "metadata": {
        "id": "ZlsSQgMcqWkJ"
      },
      "outputs": [],
      "source": [
        "# model compilation\n",
        "model = define_model(deu_vocab_size, eng_vocab_size, deu_length, eng_length, 512)"
      ]
    },
    {
      "cell_type": "code",
      "execution_count": 22,
      "metadata": {
        "id": "GCKQFBlZqmbI"
      },
      "outputs": [],
      "source": [
        "rms = optimizers.RMSprop(learning_rate=0.001)\n",
        "model.compile(optimizer=rms, loss='sparse_categorical_crossentropy')"
      ]
    },
    {
      "cell_type": "code",
      "execution_count": 23,
      "metadata": {
        "colab": {
          "base_uri": "https://localhost:8080/"
        },
        "id": "xEAMIXNnqpto",
        "outputId": "941e492b-ce9d-49b8-fa0d-3dd8f7039f76"
      },
      "outputs": [
        {
          "name": "stderr",
          "output_type": "stream",
          "text": [
            "c:\\Users\\Syifa Ayu Talitha M\\Documents\\Intern ASDP\\DEPLOYMENT DATA ANALISIS\\venv\\lib\\site-packages\\keras\\src\\layers\\core\\embedding.py:97: UserWarning: Argument `input_length` is deprecated. Just remove it.\n",
            "  warnings.warn(\n"
          ]
        }
      ],
      "source": [
        "# For example, if German is the input:\n",
        "vocab_size = deu_vocab_size\n",
        "\n",
        "# Define embedding_dim and max_length\n",
        "embedding_dim = 128  # Choose an appropriate embedding dimension\n",
        "max_length = deu_length  # Assuming deu_length is the maximum sequence length for German\n",
        "\n",
        "# Membangun model\n",
        "model = Sequential()\n",
        "model.add(Embedding(input_dim=vocab_size, output_dim=embedding_dim, input_length=max_length))\n",
        "model.add(LSTM(units=256, return_sequences=True))\n",
        "model.add(TimeDistributed(Dense(vocab_size, activation='softmax')))\n",
        "\n",
        "model.compile(loss='sparse_categorical_crossentropy', optimizer='adam', metrics=['accuracy'])"
      ]
    },
    {
      "cell_type": "code",
      "execution_count": 24,
      "metadata": {
        "colab": {
          "base_uri": "https://localhost:8080/"
        },
        "id": "tPh7_OaJqsPN",
        "outputId": "47a5c3b7-3774-41cf-e010-145c392c18f4"
      },
      "outputs": [
        {
          "name": "stdout",
          "output_type": "stream",
          "text": [
            "Epoch 1/5\n",
            "\u001b[1m13/13\u001b[0m \u001b[32m━━━━━━━━━━━━━━━━━━━━\u001b[0m\u001b[37m\u001b[0m \u001b[1m0s\u001b[0m 683ms/step - accuracy: 0.4863 - loss: 7.8181\n",
            "Epoch 1: val_loss improved from inf to 4.16857, saving model to model.h1.24_jan_19.keras\n",
            "\u001b[1m13/13\u001b[0m \u001b[32m━━━━━━━━━━━━━━━━━━━━\u001b[0m\u001b[37m\u001b[0m \u001b[1m25s\u001b[0m 932ms/step - accuracy: 0.4940 - loss: 7.7682 - val_accuracy: 0.6478 - val_loss: 4.1686\n",
            "Epoch 2/5\n",
            "\u001b[1m13/13\u001b[0m \u001b[32m━━━━━━━━━━━━━━━━━━━━\u001b[0m\u001b[37m\u001b[0m \u001b[1m0s\u001b[0m 472ms/step - accuracy: 0.6491 - loss: 3.4896\n",
            "Epoch 2: val_loss improved from 4.16857 to 2.78794, saving model to model.h1.24_jan_19.keras\n",
            "\u001b[1m13/13\u001b[0m \u001b[32m━━━━━━━━━━━━━━━━━━━━\u001b[0m\u001b[37m\u001b[0m \u001b[1m14s\u001b[0m 557ms/step - accuracy: 0.6490 - loss: 3.4651 - val_accuracy: 0.6478 - val_loss: 2.7879\n",
            "Epoch 3/5\n",
            "\u001b[1m13/13\u001b[0m \u001b[32m━━━━━━━━━━━━━━━━━━━━\u001b[0m\u001b[37m\u001b[0m \u001b[1m0s\u001b[0m 497ms/step - accuracy: 0.6482 - loss: 2.7589\n",
            "Epoch 3: val_loss improved from 2.78794 to 2.68520, saving model to model.h1.24_jan_19.keras\n",
            "\u001b[1m13/13\u001b[0m \u001b[32m━━━━━━━━━━━━━━━━━━━━\u001b[0m\u001b[37m\u001b[0m \u001b[1m8s\u001b[0m 609ms/step - accuracy: 0.6482 - loss: 2.7568 - val_accuracy: 0.6478 - val_loss: 2.6852\n",
            "Epoch 4/5\n",
            "\u001b[1m13/13\u001b[0m \u001b[32m━━━━━━━━━━━━━━━━━━━━\u001b[0m\u001b[37m\u001b[0m \u001b[1m0s\u001b[0m 493ms/step - accuracy: 0.6476 - loss: 2.6382\n",
            "Epoch 4: val_loss improved from 2.68520 to 2.61335, saving model to model.h1.24_jan_19.keras\n",
            "\u001b[1m13/13\u001b[0m \u001b[32m━━━━━━━━━━━━━━━━━━━━\u001b[0m\u001b[37m\u001b[0m \u001b[1m8s\u001b[0m 585ms/step - accuracy: 0.6477 - loss: 2.6369 - val_accuracy: 0.6478 - val_loss: 2.6133\n",
            "Epoch 5/5\n",
            "\u001b[1m13/13\u001b[0m \u001b[32m━━━━━━━━━━━━━━━━━━━━\u001b[0m\u001b[37m\u001b[0m \u001b[1m0s\u001b[0m 518ms/step - accuracy: 0.6489 - loss: 2.5547\n",
            "Epoch 5: val_loss improved from 2.61335 to 2.54873, saving model to model.h1.24_jan_19.keras\n",
            "\u001b[1m13/13\u001b[0m \u001b[32m━━━━━━━━━━━━━━━━━━━━\u001b[0m\u001b[37m\u001b[0m \u001b[1m11s\u001b[0m 611ms/step - accuracy: 0.6489 - loss: 2.5539 - val_accuracy: 0.6478 - val_loss: 2.5487\n"
          ]
        }
      ],
      "source": [
        "filename = 'model.h1.24_jan_19.keras'  # Add the .keras extension to the filename\n",
        "checkpoint = ModelCheckpoint(filename, monitor='val_loss', verbose=1, save_best_only=True, mode='min')\n",
        "\n",
        "# train model\n",
        "history = model.fit(trainX, trainY.reshape(trainY.shape[0], trainY.shape[1], 1),\n",
        "                    epochs=5, batch_size=512, validation_split=0.2, callbacks=[checkpoint],\n",
        "                    verbose=1)"
      ]
    },
    {
      "cell_type": "code",
      "execution_count": 25,
      "metadata": {
        "colab": {
          "base_uri": "https://localhost:8080/",
          "height": 430
        },
        "id": "yeoMO8Uoq7eh",
        "outputId": "624739fc-a859-4c00-d2cc-af414bdda0bc"
      },
      "outputs": [
        {
          "data": {
            "image/png": "[encoded data removed]",
            "text/plain": [
              "<Figure size 640x480 with 1 Axes>"
            ]
          },
          "metadata": {},
          "output_type": "display_data"
        }
      ],
      "source": [
        "import matplotlib.pyplot as plt\n",
        "\n",
        "plt.plot(history.history['loss'])\n",
        "plt.plot(history.history['val_loss'])\n",
        "plt.legend(['train','validation'])\n",
        "plt.show()\n"
      ]
    },
    {
      "cell_type": "code",
      "execution_count": 26,
      "metadata": {
        "id": "jc5MtjwR3M3g"
      },
      "outputs": [],
      "source": [
        "from keras.models import load_model\n",
        "from numpy import argmax\n",
        "\n",
        "model = load_model('model.h1.24_jan_19.keras')\n",
        "preds = model.predict(testX, verbose=0)\n",
        "preds = argmax(preds, axis=-1)\n"
      ]
    },
    {
      "cell_type": "code",
      "execution_count": 27,
      "metadata": {
        "id": "JtFVbNSGbzvu"
      },
      "outputs": [],
      "source": [
        "def get_word(n, tokenizer):\n",
        "    for word, index in tokenizer.word_index.items():\n",
        "        if index == n:\n",
        "            return word\n",
        "    return None"
      ]
    },
    {
      "cell_type": "code",
      "execution_count": 28,
      "metadata": {
        "id": "P_Cl0PYF-XU3"
      },
      "outputs": [],
      "source": [
        "preds_text = []\n",
        "for i in preds:\n",
        "    temp = []\n",
        "    for j in range(len(i)):\n",
        "        t = get_word(i[j], eng_tokenizer)\n",
        "        if j > 0:\n",
        "            if (t == get_word(i[j-1], eng_tokenizer)) or (t == None):\n",
        "                temp.append('')\n",
        "            else:\n",
        "                temp.append(t)\n",
        "        else:\n",
        "            if(t == None):\n",
        "                temp.append('')\n",
        "            else:\n",
        "                temp.append(t)\n",
        "\n",
        "    preds_text.append(' '.join(temp))"
      ]
    },
    {
      "cell_type": "code",
      "execution_count": 29,
      "metadata": {
        "id": "glmaNuuT3QfG"
      },
      "outputs": [],
      "source": [
        "pred_df = pd.DataFrame({'actual' : test[:,0], 'predicted' : preds_text})"
      ]
    },
    {
      "cell_type": "code",
      "execution_count": 30,
      "metadata": {
        "colab": {
          "base_uri": "https://localhost:8080/",
          "height": 519
        },
        "id": "hCjY7TAncC6a",
        "outputId": "0f1b9de5-d077-4459-b0b4-40a78d35a502"
      },
      "outputs": [
        {
          "data": {
            "text/html": [
              "<div>\n",
              "<style scoped>\n",
              "    .dataframe tbody tr th:only-of-type {\n",
              "        vertical-align: middle;\n",
              "    }\n",
              "\n",
              "    .dataframe tbody tr th {\n",
              "        vertical-align: top;\n",
              "    }\n",
              "\n",
              "    .dataframe thead th {\n",
              "        text-align: right;\n",
              "    }\n",
              "</style>\n",
              "<table border=\"1\" class=\"dataframe\">\n",
              "  <thead>\n",
              "    <tr style=\"text-align: right;\">\n",
              "      <th></th>\n",
              "      <th>actual</th>\n",
              "      <th>predicted</th>\n",
              "    </tr>\n",
              "  </thead>\n",
              "  <tbody>\n",
              "    <tr>\n",
              "      <th>0</th>\n",
              "      <td>i love garlic</td>\n",
              "      <td></td>\n",
              "    </tr>\n",
              "    <tr>\n",
              "      <th>1</th>\n",
              "      <td>it was on sale</td>\n",
              "      <td></td>\n",
              "    </tr>\n",
              "    <tr>\n",
              "      <th>2</th>\n",
              "      <td>who are you</td>\n",
              "      <td></td>\n",
              "    </tr>\n",
              "    <tr>\n",
              "      <th>3</th>\n",
              "      <td>is it for here</td>\n",
              "      <td></td>\n",
              "    </tr>\n",
              "    <tr>\n",
              "      <th>4</th>\n",
              "      <td>send it to me</td>\n",
              "      <td></td>\n",
              "    </tr>\n",
              "    <tr>\n",
              "      <th>5</th>\n",
              "      <td>tom is loving</td>\n",
              "      <td></td>\n",
              "    </tr>\n",
              "    <tr>\n",
              "      <th>6</th>\n",
              "      <td>i was bullied</td>\n",
              "      <td></td>\n",
              "    </tr>\n",
              "    <tr>\n",
              "      <th>7</th>\n",
              "      <td>tom got hacked</td>\n",
              "      <td></td>\n",
              "    </tr>\n",
              "    <tr>\n",
              "      <th>8</th>\n",
              "      <td>tom just ate</td>\n",
              "      <td></td>\n",
              "    </tr>\n",
              "    <tr>\n",
              "      <th>9</th>\n",
              "      <td>tom saw me</td>\n",
              "      <td></td>\n",
              "    </tr>\n",
              "    <tr>\n",
              "      <th>10</th>\n",
              "      <td>hes not ready</td>\n",
              "      <td></td>\n",
              "    </tr>\n",
              "    <tr>\n",
              "      <th>11</th>\n",
              "      <td>tom is a slob</td>\n",
              "      <td></td>\n",
              "    </tr>\n",
              "    <tr>\n",
              "      <th>12</th>\n",
              "      <td>come early</td>\n",
              "      <td></td>\n",
              "    </tr>\n",
              "    <tr>\n",
              "      <th>13</th>\n",
              "      <td>im not happy</td>\n",
              "      <td></td>\n",
              "    </tr>\n",
              "    <tr>\n",
              "      <th>14</th>\n",
              "      <td>this is life</td>\n",
              "      <td></td>\n",
              "    </tr>\n",
              "  </tbody>\n",
              "</table>\n",
              "</div>"
            ],
            "text/plain": [
              "            actual predicted\n",
              "0    i love garlic          \n",
              "1   it was on sale          \n",
              "2      who are you          \n",
              "3   is it for here          \n",
              "4    send it to me          \n",
              "5    tom is loving          \n",
              "6    i was bullied          \n",
              "7   tom got hacked          \n",
              "8     tom just ate          \n",
              "9       tom saw me          \n",
              "10   hes not ready          \n",
              "11   tom is a slob          \n",
              "12      come early          \n",
              "13    im not happy          \n",
              "14    this is life          "
            ]
          },
          "execution_count": 30,
          "metadata": {},
          "output_type": "execute_result"
        }
      ],
      "source": [
        "# print 15 rows randomly\n",
        "pred_df.head(15)"
      ]
    },
    {
      "cell_type": "code",
      "execution_count": 32,
      "metadata": {
        "colab": {
          "base_uri": "https://localhost:8080/"
        },
        "id": "HegzKm-Hcqo7",
        "outputId": "63162df3-7544-4f27-8ede-307dd51681f0"
      },
      "outputs": [
        {
          "name": "stdout",
          "output_type": "stream",
          "text": [
            "BLEU score: 6.93691943797616e-295\n"
          ]
        },
        {
          "name": "stderr",
          "output_type": "stream",
          "text": [
            "c:\\Users\\Syifa Ayu Talitha M\\Documents\\Intern ASDP\\DEPLOYMENT DATA ANALISIS\\venv\\lib\\site-packages\\nltk\\translate\\bleu_score.py:577: UserWarning: \n",
            "The hypothesis contains 0 counts of 2-gram overlaps.\n",
            "Therefore the BLEU score evaluates to 0, independently of\n",
            "how many N-gram overlaps of lower order it contains.\n",
            "Consider using lower n-gram order or use SmoothingFunction()\n",
            "  warnings.warn(_msg)\n",
            "c:\\Users\\Syifa Ayu Talitha M\\Documents\\Intern ASDP\\DEPLOYMENT DATA ANALISIS\\venv\\lib\\site-packages\\nltk\\translate\\bleu_score.py:577: UserWarning: \n",
            "The hypothesis contains 0 counts of 3-gram overlaps.\n",
            "Therefore the BLEU score evaluates to 0, independently of\n",
            "how many N-gram overlaps of lower order it contains.\n",
            "Consider using lower n-gram order or use SmoothingFunction()\n",
            "  warnings.warn(_msg)\n",
            "c:\\Users\\Syifa Ayu Talitha M\\Documents\\Intern ASDP\\DEPLOYMENT DATA ANALISIS\\venv\\lib\\site-packages\\nltk\\translate\\bleu_score.py:577: UserWarning: \n",
            "The hypothesis contains 0 counts of 4-gram overlaps.\n",
            "Therefore the BLEU score evaluates to 0, independently of\n",
            "how many N-gram overlaps of lower order it contains.\n",
            "Consider using lower n-gram order or use SmoothingFunction()\n",
            "  warnings.warn(_msg)\n"
          ]
        }
      ],
      "source": [
        "from nltk.translate.bleu_score import corpus_bleu\n",
        "\n",
        "actual = [[sentence.split()] for sentence in test[:, 0]]  # referensi\n",
        "predicted = [sentence.split() for sentence in preds_text]  # hasil prediksi\n",
        "\n",
        "print('BLEU score:', corpus_bleu(actual, predicted))\n"
      ]
    },
    {
      "cell_type": "code",
      "execution_count": 33,
      "metadata": {
        "colab": {
          "base_uri": "https://localhost:8080/",
          "height": 472
        },
        "id": "5c9fh26Kc40J",
        "outputId": "75cc2e28-30aa-4ef2-c73b-747a9908a12e"
      },
      "outputs": [
        {
          "data": {
            "image/png": "[encoded data removed]",
            "text/plain": [
              "<Figure size 640x480 with 1 Axes>"
            ]
          },
          "metadata": {},
          "output_type": "display_data"
        }
      ],
      "source": [
        "import matplotlib.pyplot as plt\n",
        "\n",
        "# Panjang kalimat aktual\n",
        "actual_lengths = [len(sentence.split()) for sentence in test[:, 0]]\n",
        "\n",
        "# Panjang kalimat hasil prediksi\n",
        "predicted_lengths = [len(sentence.split()) for sentence in preds_text]\n",
        "\n",
        "# Visualisasi\n",
        "plt.hist(actual_lengths, bins=20, alpha=0.5, label='Actual')\n",
        "plt.hist(predicted_lengths, bins=20, alpha=0.5, label='Predicted')\n",
        "plt.legend()\n",
        "plt.xlabel(\"Sentence Length\")\n",
        "plt.ylabel(\"Frequency\")\n",
        "plt.title(\"Comparison of Sentence Lengths\")\n",
        "plt.show()\n"
      ]
    },
    {
      "cell_type": "code",
      "execution_count": 34,
      "metadata": {
        "colab": {
          "base_uri": "https://localhost:8080/"
        },
        "id": "eGtcVqy4c58f",
        "outputId": "8a20f52b-bbdf-4e25-da95-47980885da1e"
      },
      "outputs": [
        {
          "name": "stdout",
          "output_type": "stream",
          "text": [
            "\n",
            "Actual:    theyre tired\n",
            "Predicted:        \n",
            "\n",
            "Actual:    go and see tom\n",
            "Predicted:        \n",
            "\n",
            "Actual:    get lost\n",
            "Predicted:        \n",
            "\n",
            "Actual:    show it to us\n",
            "Predicted:        \n",
            "\n",
            "Actual:    hand it over\n",
            "Predicted:        \n",
            "\n",
            "Actual:    replace it\n",
            "Predicted:        \n",
            "\n",
            "Actual:    ill attend\n",
            "Predicted:        \n",
            "\n",
            "Actual:    im not mean\n",
            "Predicted:        \n",
            "\n",
            "Actual:    they loved you\n",
            "Predicted:        \n",
            "\n",
            "Actual:    they loved tom\n",
            "Predicted:        \n"
          ]
        }
      ],
      "source": [
        "# Ambil beberapa baris acak\n",
        "sample_df = pred_df.sample(10)\n",
        "\n",
        "# Tampilkan perbandingan actual vs predicted\n",
        "for i in range(len(sample_df)):\n",
        "    print(f\"\\nActual:    {sample_df.iloc[i]['actual']}\")\n",
        "    print(f\"Predicted: {sample_df.iloc[i]['predicted']}\")\n"
      ]
    },
    {
      "cell_type": "code",
      "execution_count": 35,
      "metadata": {
        "id": "6aIV6Ghmc8Kp"
      },
      "outputs": [],
      "source": [
        "model.add(LSTM(units=512))  # sebelumnya 256\n"
      ]
    },
    {
      "cell_type": "code",
      "execution_count": 41,
      "metadata": {},
      "outputs": [],
      "source": [
        "from tensorflow.keras.preprocessing.text import Tokenizer\n",
        "import pickle\n",
        "\n",
        "# Ambil input/output dari data yang sudah dibersihkan\n",
        "ger_sentences = deu_eng[:, 1]  # Bahasa Jerman\n",
        "eng_sentences = deu_eng[:, 0]  # Bahasa Inggris\n",
        "\n",
        "# Buat tokenizer untuk Jerman\n",
        "tokenizer_de = Tokenizer()\n",
        "tokenizer_de.fit_on_texts(ger_sentences)\n",
        "\n",
        "# Buat tokenizer untuk Inggris\n",
        "tokenizer_en = Tokenizer()\n",
        "tokenizer_en.fit_on_texts(eng_sentences)\n",
        "\n",
        "# Simpan tokenizer Jerman\n",
        "with open(\"tokenizer_de.pkl\", \"wb\") as f:\n",
        "    pickle.dump(tokenizer_de, f)\n",
        "\n",
        "# Simpan tokenizer Inggris\n",
        "with open(\"tokenizer_en.pkl\", \"wb\") as f:\n",
        "    pickle.dump(tokenizer_en, f)\n"
      ]
    }
  ],
  "metadata": {
    "colab": {
      "provenance": []
    },
    "kernelspec": {
      "display_name": "venv",
      "language": "python",
      "name": "python3"
    },
    "language_info": {
      "codemirror_mode": {
        "name": "ipython",
        "version": 3
      },
      "file_extension": ".py",
      "mimetype": "text/x-python",
      "name": "python",
      "nbconvert_exporter": "python",
      "pygments_lexer": "ipython3",
      "version": "3.10.9"
    }
  },
  "nbformat": 4,
  "nbformat_minor": 0
}
